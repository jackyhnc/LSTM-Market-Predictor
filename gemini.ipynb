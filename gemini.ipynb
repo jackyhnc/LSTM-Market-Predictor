{
 "cells": [
  {
   "cell_type": "code",
   "execution_count": null,
   "id": "dcf279f0",
   "metadata": {},
   "outputs": [],
   "source": [
    "from concurrent.futures import ThreadPoolExecutor, as_completed\n",
    "from transformers import pipeline\n",
    "import pandas as pd\n",
    "import os\n",
    "\n",
    "classifier = pipeline(\"zero-shot-classification\", model=\"facebook/bart-large-mnli\", device=\"cpu\")\n",
    "\n",
    "\n",
    "def classify_title(title: str):\n",
    "    output = classifier(\n",
    "        title,\n",
    "        candidate_labels=[\"Negative\", \"Positive\", \"Neutral\"],\n",
    "    )\n",
    "\n",
    "    result = {\"title\": output[\"sequence\"]}\n",
    "    for i, label in enumerate(output[\"labels\"]):\n",
    "        result[label.lower()] = output[\"scores\"][i]\n",
    "    return result\n",
    "\n",
    "\n",
    "def save_classified_titles(ticker: str, executor: ThreadPoolExecutor, *, index: int, length: int):\n",
    "    if os.path.exists(f\"sentiments/{ticker}.csv\"):\n",
    "        return\n",
    "\n",
    "    df = pd.read_csv(f\"merged_articles/{ticker}.csv\")\n",
    "\n",
    "    sampled_df = df.sample(n=100)\n",
    "    sampled_titles = sampled_df[\"title\"].tolist()\n",
    "\n",
    "    results = []\n",
    "\n",
    "    # with ThreadPoolExecutor(max_workers=24) as executor:\n",
    "    futures = [executor.submit(classify_title, t) for t in sampled_titles]\n",
    "    for future in as_completed(futures):\n",
    "        result = future.result()\n",
    "        results.append(result)\n",
    "\n",
    "    # for title in sampled_titles:\n",
    "    #     results.append(classify_title(title))\n",
    "\n",
    "    os.makedirs(\"sentiments\", exist_ok=True)\n",
    "\n",
    "    sentiment_df = pd.DataFrame(results)\n",
    "    sentiment_df.to_csv(f\"sentiments/{ticker}.csv\")\n",
    "\n",
    "    print(f\"({index + 1:3d}/{length}) SAVED: {ticker}\")"
   ]
  },
  {
   "cell_type": "code",
   "execution_count": null,
   "id": "eb866600",
   "metadata": {},
   "outputs": [],
   "source": [
    "sp500 = pd.read_csv(\"sp500.csv\")\n",
    "tickers = sorted([ticker for ticker in sp500[\"Symbol\"]])\n",
    "\n",
    "\n",
    "executor = ThreadPoolExecutor(max_workers=24)\n",
    "\n",
    "for i, ticker in enumerate(tickers[472:]):\n",
    "    save_classified_titles(ticker, executor, index=i, length=len(tickers[472:]))\n",
    "\n",
    "executor.shutdown()"
   ]
  }
 ],
 "metadata": {
  "kernelspec": {
   "display_name": ".venv",
   "language": "python",
   "name": "python3"
  },
  "language_info": {
   "codemirror_mode": {
    "name": "ipython",
    "version": 3
   },
   "file_extension": ".py",
   "mimetype": "text/x-python",
   "name": "python",
   "nbconvert_exporter": "python",
   "pygments_lexer": "ipython3",
   "version": "3.12.10"
  }
 },
 "nbformat": 4,
 "nbformat_minor": 5
}
