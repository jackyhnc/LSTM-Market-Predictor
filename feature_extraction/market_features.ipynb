{
  "cells": [
    {
      "cell_type": "code",
      "execution_count": null,
      "metadata": {
        "id": "bN7DOD6kZtWA"
      },
      "outputs": [],
      "source": [
        "import numpy as np\n",
        "import matplotlib.pyplot as plt\n",
        "from tensorflow.keras.models import Sequential\n",
        "from tensorflow.keras.layers import LSTM, Dense, Dropout\n",
        "#from google.colab import drive\n",
        "import pandas as pd\n",
        "import yfinance"
      ]
    },
    {
      "cell_type": "code",
      "execution_count": null,
      "metadata": {},
      "outputs": [],
      "source": [
        "file_path_tda = 'tda_features.csv' #'/content/drive/My Drive/LSTM/tda_features.csv'\n",
        "file_path_finance = '../data_ingestion/sp500_data.csv' #'/content/drive/My Drive/LSTM/sp500_data.csv'\n",
        "file_path_ticker = '../sp500.csv' #'/content/drive/My Drive/LSTM/sp500.csv'"
      ]
    },
    {
      "cell_type": "code",
      "execution_count": null,
      "metadata": {},
      "outputs": [],
      "source": [
        "df_finance = pd.read_csv(file_path_finance, header=[0,1])\n",
        "df_finance = df_finance.drop(0)\n",
        "\n",
        "#clear tickers with nan values like onse that ipoed inside time window\n",
        "temp_tickers = df_finance.columns.get_level_values(0).unique()[1:]\n",
        "tickers_with_nan = []\n",
        "for ticker in temp_tickers:\n",
        "  if df_finance[ticker].isnull().any().any():\n",
        "    tickers_with_nan.append(ticker)\n",
        "df_finance.drop(columns=tickers_with_nan, inplace=True)\n",
        "\n",
        "#fix df format\n",
        "df_finance.columns = ['_'.join(col).strip() if isinstance(col, tuple) else col for col in df_finance.columns]\n",
        "df_finance = df_finance.rename(columns={\"Ticker_Price\": \"Date\"})\n",
        "df_finance = df_finance.set_index(\"Date\")\n"
      ]
    },
    {
      "cell_type": "code",
      "execution_count": null,
      "metadata": {},
      "outputs": [],
      "source": [
        "\"\"\"\n",
        "#combining tda and finance data\n",
        "\n",
        "df_tda[\"Date\"] = df_tda[\"date\"].str.replace(' 00:00:00', '', regex=False)\n",
        "df_tda.drop(columns=[\"date\"], inplace=True)\n",
        "df_tda.set_index(\"Date\", inplace=True)\n",
        "\"\"\""
      ]
    },
    {
      "cell_type": "code",
      "execution_count": null,
      "metadata": {
        "colab": {
          "base_uri": "https://localhost:8080/",
          "height": 547
        },
        "id": "Wx5pQTNMbClK",
        "outputId": "8db06f22-8191-4024-c448-4d5cb4bc22b5"
      },
      "outputs": [],
      "source": [
        "#features\n",
        "import warnings\n",
        "warnings.filterwarnings('ignore')\n",
        "\n",
        "window_rsi = 14\n",
        "window_vol = 21\n",
        "\n",
        "def compute_rsi(series, window):\n",
        "    delta = series.diff()\n",
        "    gain = np.where(delta > 0, delta, 0)\n",
        "    loss = np.where(delta < 0, -delta, 0)\n",
        "    roll_up = pd.Series(gain, index=series.index).rolling(window=window).mean()\n",
        "    roll_down = pd.Series(loss, index=series.index).rolling(window=window).mean()\n",
        "    \n",
        "    RS = np.where(roll_down == 0, np.inf, roll_up / roll_down)\n",
        "    RSI = 100.0 - (100.0 / (1.0 + RS))\n",
        "    \n",
        "    return RSI\n",
        "\n",
        "tickers = set(col.split(\"_\")[0] for col in df_finance.columns)\n",
        "for ticker in tickers:\n",
        "    close_col = f\"{ticker}_Close\"\n",
        "    volume_col = f\"{ticker}_Volume\"\n",
        "\n",
        "    if close_col not in df_finance.columns or volume_col not in df_finance.columns:\n",
        "        continue\n",
        "\n",
        "    df_finance[f\"{ticker}_RSI_14\"] = compute_rsi(df_finance[close_col], window=window_rsi)\n",
        "\n",
        "    log_return = np.log(1 + df_finance[close_col].pct_change())\n",
        "    df_finance[f\"{ticker}_Log_Return\"] = log_return\n",
        "    df_finance[f\"{ticker}_Volatility_21\"] = log_return.rolling(window=window_vol).std()\n",
        "    \n",
        "    df_finance[f\"{ticker}_Volume_Z\"] = (df_finance[volume_col] - df_finance[volume_col].rolling(window_vol).mean()) / df_finance[volume_col].rolling(window_vol).std()\n",
        "\n",
        "#drop first row bc log return nan values\n",
        "df_finance = df_finance.iloc[1:]"
      ]
    },
    {
      "cell_type": "code",
      "execution_count": null,
      "metadata": {},
      "outputs": [],
      "source": [
        "\"\"\"\n",
        "#see if any nan in df\n",
        "for i in range(len(df_finance)):\n",
        "    row = df_finance.iloc[i]\n",
        "    nan_cols = row.index[row.isnull()]\n",
        "    if len(nan_cols) > 0:\n",
        "        print(f\"Row {i} has NaN in columns: {list(nan_cols)}\")\n",
        "\"\"\""
      ]
    },
    {
      "cell_type": "markdown",
      "metadata": {},
      "source": [
        "# TDA"
      ]
    },
    {
      "cell_type": "code",
      "execution_count": null,
      "metadata": {},
      "outputs": [],
      "source": [
        "from ripser import Rips\n",
        "import persim\n",
        "import matplotlib.pyplot as plt"
      ]
    },
    {
      "cell_type": "code",
      "execution_count": null,
      "metadata": {},
      "outputs": [],
      "source": [
        "log_returns = np.array([df_finance[f\"{ticker}_Log_Return\"] for ticker in tickers])\n",
        "log_returns = log_returns.T"
      ]
    },
    {
      "cell_type": "code",
      "execution_count": null,
      "metadata": {},
      "outputs": [],
      "source": [
        "\"\"\"\n",
        "rips = Rips(maxdim = 2) # max betti number value b2\n",
        "\n",
        "dgm = rips.fit_transform(log_returns[0:50])\n",
        "\n",
        "plt.figure(figsize=(5, 5), dpi=80)\n",
        "plt.rcParams.update({'font.size': 10})\n",
        "#persim.plot_diagrams(dgm, title=\"Persistence Diagram\")\n",
        "\n",
        "plt.savefig(\"images/homology_example_persistence-diagram.png\", dpi='figure', format=None, metadata=None,\n",
        "        bbox_inches=None, pad_inches=0.1,\n",
        "        facecolor='white', edgecolor='auto')\n",
        "\"\"\""
      ]
    },
    {
      "cell_type": "code",
      "execution_count": null,
      "metadata": {},
      "outputs": [],
      "source": [
        "df_finance.head()"
      ]
    },
    {
      "cell_type": "code",
      "execution_count": null,
      "metadata": {},
      "outputs": [],
      "source": [
        "window_wasserstein = 30\n",
        "eps = 0.5  \n",
        "maxdim = 2 \n",
        "rips = Rips(maxdim=maxdim, verbose=False)\n",
        "\n",
        "def betti_numbers_at_scale(diagrams, eps):\n",
        "    bettis = []\n",
        "    for dgm in diagrams:\n",
        "        alive = np.sum((dgm[:, 0] <= eps) & (dgm[:, 1] > eps))\n",
        "        bettis.append(int(alive))\n",
        "    return bettis\n",
        "\n",
        "persistences = []\n",
        "betti_list = []\n",
        "wasserstein_list = []\n",
        "\n",
        "for start in range(0, len(log_returns) - window_wasserstein + 1):\n",
        "    window_data = log_returns[start:start + window_wasserstein]\n",
        "    print(window_data.shape)\n",
        "    diagrams = rips.fit_transform(window_data)\n",
        "    persistences.append(diagrams)\n",
        "\n",
        "    bettis = betti_numbers_at_scale(diagrams, eps=eps)\n",
        "    while len(bettis) < 3:\n",
        "        bettis.append(0)\n",
        "    betti_list.append(bettis)\n",
        "\n",
        "# Compute Wasserstein distances between consecutive windows (H1 diagrams)\n",
        "for i in range(1, len(persistences)):\n",
        "    dgm_prev = persistences[i - 1][1]\n",
        "    dgm_curr = persistences[i][1]\n",
        "    W = persim.wasserstein(dgm_prev, dgm_curr)\n",
        "    wasserstein_list.append(W)\n",
        "\n",
        "betti_df = pd.DataFrame(\n",
        "    betti_list,\n",
        "    columns=[\"Betti0\", \"Betti1\", \"Betti2\"],\n",
        "    index=df_finance.index[window_wasserstein - 1:]\n",
        ")\n",
        "wasserstein_df = pd.DataFrame(\n",
        "    {\"Wasserstein\": wasserstein_list},\n",
        "    index=df_finance.index[window_wasserstein:]\n",
        ")\n",
        "\n",
        "df_finance[\"Wasserstein\"] = wasserstein_df.reindex(df_finance.index)[\"Wasserstein\"]"
      ]
    },
    {
      "cell_type": "markdown",
      "metadata": {},
      "source": [
        "# Clean Nan"
      ]
    },
    {
      "cell_type": "code",
      "execution_count": null,
      "metadata": {},
      "outputs": [],
      "source": [
        "#extra cleaning Nans\n",
        "biggest_cut_off = max(window_rsi, window_vol, window_wasserstein)\n",
        "df_finance = df_finance[biggest_cut_off:]\n",
        "df_finance = df_finance.reindex(sorted(df_finance.columns), axis=1)"
      ]
    },
    {
      "cell_type": "code",
      "execution_count": null,
      "metadata": {},
      "outputs": [],
      "source": [
        "df_finance[\"Wasserstein\"]"
      ]
    },
    {
      "cell_type": "code",
      "execution_count": null,
      "metadata": {},
      "outputs": [],
      "source": [
        "\"\"\"\n",
        "df_finance.to_csv(\"market_features_no_sentiment.csv\")\n",
        "\"\"\""
      ]
    },
    {
      "cell_type": "code",
      "execution_count": null,
      "metadata": {},
      "outputs": [],
      "source": [
        "tickers.rename(columns={0: \"Ticker\"}, inplace=True)\n",
        "\n",
        "tickers = pd.DataFrame(tickers)\n",
        "tickers.reset_index(drop=True)\n",
        "tickers.to_csv(\"valid_tickers.csv\")"
      ]
    }
  ],
  "metadata": {
    "colab": {
      "provenance": []
    },
    "kernelspec": {
      "display_name": ".venv",
      "language": "python",
      "name": "python3"
    },
    "language_info": {
      "codemirror_mode": {
        "name": "ipython",
        "version": 3
      },
      "file_extension": ".py",
      "mimetype": "text/x-python",
      "name": "python",
      "nbconvert_exporter": "python",
      "pygments_lexer": "ipython3",
      "version": "3.12.4"
    }
  },
  "nbformat": 4,
  "nbformat_minor": 0
}
