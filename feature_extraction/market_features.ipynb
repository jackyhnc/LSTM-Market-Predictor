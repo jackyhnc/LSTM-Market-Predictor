{
  "cells": [
    {
      "cell_type": "code",
      "execution_count": 16,
      "metadata": {
        "id": "bN7DOD6kZtWA"
      },
      "outputs": [],
      "source": [
        "import numpy as np\n",
        "import matplotlib.pyplot as plt\n",
        "from tensorflow.keras.models import Sequential\n",
        "from tensorflow.keras.layers import LSTM, Dense, Dropout\n",
        "#from google.colab import drive\n",
        "import pandas as pd\n",
        "import yfinance"
      ]
    },
    {
      "cell_type": "code",
      "execution_count": 17,
      "metadata": {},
      "outputs": [],
      "source": [
        "file_path_tda = 'tda_features.csv' #'/content/drive/My Drive/LSTM/tda_features.csv'\n",
        "file_path_finance = '../data_ingestion/sp500_data.csv' #'/content/drive/My Drive/LSTM/sp500_data.csv'\n",
        "file_path_ticker = '../sp500.csv' #'/content/drive/My Drive/LSTM/sp500.csv'"
      ]
    },
    {
      "cell_type": "code",
      "execution_count": 18,
      "metadata": {},
      "outputs": [
        {
          "name": "stderr",
          "output_type": "stream",
          "text": [
            "/var/folders/c5/nwrhnbhs5ks1ssf190f4b49r0000gn/T/ipykernel_175/1552945367.py:10: PerformanceWarning: dropping on a non-lexsorted multi-index without a level parameter may impact performance.\n",
            "  df_finance.drop(columns=tickers_with_nan, inplace=True)\n"
          ]
        }
      ],
      "source": [
        "df_finance = pd.read_csv(file_path_finance, header=[0,1])\n",
        "df_finance = df_finance.drop(0)\n",
        "\n",
        "#clear tickers with nan values like onse that ipoed inside time window\n",
        "temp_tickers = df_finance.columns.get_level_values(0).unique()[1:]\n",
        "tickers_with_nan = []\n",
        "for ticker in temp_tickers:\n",
        "  if df_finance[ticker].isnull().any().any():\n",
        "    tickers_with_nan.append(ticker)\n",
        "df_finance.drop(columns=tickers_with_nan, inplace=True)\n",
        "\n",
        "#fix df format\n",
        "df_finance.columns = ['_'.join(col).strip() if isinstance(col, tuple) else col for col in df_finance.columns]\n",
        "df_finance = df_finance.rename(columns={\"Ticker_Price\": \"Date\"})\n",
        "df_finance = df_finance.set_index(\"Date\")\n"
      ]
    },
    {
      "cell_type": "code",
      "execution_count": 19,
      "metadata": {},
      "outputs": [
        {
          "data": {
            "text/plain": [
              "'\\n#combining tda and finance data\\n\\ndf_tda[\"Date\"] = df_tda[\"date\"].str.replace(\\' 00:00:00\\', \\'\\', regex=False)\\ndf_tda.drop(columns=[\"date\"], inplace=True)\\ndf_tda.set_index(\"Date\", inplace=True)\\n'"
            ]
          },
          "execution_count": 19,
          "metadata": {},
          "output_type": "execute_result"
        }
      ],
      "source": [
        "\"\"\"\n",
        "#combining tda and finance data\n",
        "\n",
        "df_tda[\"Date\"] = df_tda[\"date\"].str.replace(' 00:00:00', '', regex=False)\n",
        "df_tda.drop(columns=[\"date\"], inplace=True)\n",
        "df_tda.set_index(\"Date\", inplace=True)\n",
        "\"\"\""
      ]
    },
    {
      "cell_type": "code",
      "execution_count": 20,
      "metadata": {
        "colab": {
          "base_uri": "https://localhost:8080/",
          "height": 547
        },
        "id": "Wx5pQTNMbClK",
        "outputId": "8db06f22-8191-4024-c448-4d5cb4bc22b5"
      },
      "outputs": [],
      "source": [
        "#features\n",
        "import warnings\n",
        "warnings.filterwarnings('ignore')\n",
        "\n",
        "window_rsi = 14\n",
        "window_vol = 21\n",
        "\n",
        "def compute_rsi(series, window):\n",
        "    delta = series.diff()\n",
        "    gain = np.where(delta > 0, delta, 0)\n",
        "    loss = np.where(delta < 0, -delta, 0)\n",
        "    roll_up = pd.Series(gain, index=series.index).rolling(window=window).mean()\n",
        "    roll_down = pd.Series(loss, index=series.index).rolling(window=window).mean()\n",
        "    \n",
        "    RS = np.where(roll_down == 0, np.inf, roll_up / roll_down)\n",
        "    RSI = 100.0 - (100.0 / (1.0 + RS))\n",
        "    \n",
        "    return RSI\n",
        "\n",
        "tickers = set(col.split(\"_\")[0] for col in df_finance.columns)\n",
        "for ticker in tickers:\n",
        "    close_col = f\"{ticker}_Close\"\n",
        "    volume_col = f\"{ticker}_Volume\"\n",
        "\n",
        "    if close_col not in df_finance.columns or volume_col not in df_finance.columns:\n",
        "        continue\n",
        "\n",
        "    df_finance[f\"{ticker}_RSI_14\"] = compute_rsi(df_finance[close_col], window=window_rsi)\n",
        "\n",
        "    log_return = np.log(1 + df_finance[close_col].pct_change())\n",
        "    df_finance[f\"{ticker}_Log_Return\"] = log_return\n",
        "    df_finance[f\"{ticker}_Volatility_21\"] = log_return.rolling(window=window_vol).std()\n",
        "    \n",
        "    df_finance[f\"{ticker}_Volume_Z\"] = (df_finance[volume_col] - df_finance[volume_col].rolling(window_vol).mean()) / df_finance[volume_col].rolling(window_vol).std()\n",
        "\n",
        "#drop first row bc log return nan values\n",
        "df_finance = df_finance.iloc[1:]"
      ]
    },
    {
      "cell_type": "code",
      "execution_count": 21,
      "metadata": {},
      "outputs": [
        {
          "data": {
            "text/plain": [
              "'\\n#see if any nan in df\\nfor i in range(len(df_finance)):\\n    row = df_finance.iloc[i]\\n    nan_cols = row.index[row.isnull()]\\n    if len(nan_cols) > 0:\\n        print(f\"Row {i} has NaN in columns: {list(nan_cols)}\")\\n'"
            ]
          },
          "execution_count": 21,
          "metadata": {},
          "output_type": "execute_result"
        }
      ],
      "source": [
        "\"\"\"\n",
        "#see if any nan in df\n",
        "for i in range(len(df_finance)):\n",
        "    row = df_finance.iloc[i]\n",
        "    nan_cols = row.index[row.isnull()]\n",
        "    if len(nan_cols) > 0:\n",
        "        print(f\"Row {i} has NaN in columns: {list(nan_cols)}\")\n",
        "\"\"\""
      ]
    },
    {
      "cell_type": "markdown",
      "metadata": {},
      "source": [
        "# TDA"
      ]
    },
    {
      "cell_type": "code",
      "execution_count": 22,
      "metadata": {},
      "outputs": [],
      "source": [
        "from ripser import Rips\n",
        "import persim\n",
        "import matplotlib.pyplot as plt"
      ]
    },
    {
      "cell_type": "code",
      "execution_count": 23,
      "metadata": {},
      "outputs": [],
      "source": [
        "log_returns = np.array([df_finance[f\"{ticker}_Log_Return\"] for ticker in tickers])\n",
        "log_returns = log_returns.T"
      ]
    },
    {
      "cell_type": "code",
      "execution_count": 24,
      "metadata": {},
      "outputs": [
        {
          "data": {
            "text/plain": [
              "'\\nrips = Rips(maxdim = 2) # max betti number value b2\\n\\ndgm = rips.fit_transform(log_returns[0:50])\\n\\nplt.figure(figsize=(5, 5), dpi=80)\\nplt.rcParams.update({\\'font.size\\': 10})\\n#persim.plot_diagrams(dgm, title=\"Persistence Diagram\")\\n\\nplt.savefig(\"images/homology_example_persistence-diagram.png\", dpi=\\'figure\\', format=None, metadata=None,\\n        bbox_inches=None, pad_inches=0.1,\\n        facecolor=\\'white\\', edgecolor=\\'auto\\')\\n'"
            ]
          },
          "execution_count": 24,
          "metadata": {},
          "output_type": "execute_result"
        }
      ],
      "source": [
        "\"\"\"\n",
        "rips = Rips(maxdim = 2) # max betti number value b2\n",
        "\n",
        "dgm = rips.fit_transform(log_returns[0:50])\n",
        "\n",
        "plt.figure(figsize=(5, 5), dpi=80)\n",
        "plt.rcParams.update({'font.size': 10})\n",
        "#persim.plot_diagrams(dgm, title=\"Persistence Diagram\")\n",
        "\n",
        "plt.savefig(\"images/homology_example_persistence-diagram.png\", dpi='figure', format=None, metadata=None,\n",
        "        bbox_inches=None, pad_inches=0.1,\n",
        "        facecolor='white', edgecolor='auto')\n",
        "\"\"\""
      ]
    },
    {
      "cell_type": "code",
      "execution_count": 25,
      "metadata": {},
      "outputs": [
        {
          "data": {
            "text/html": [
              "<div>\n",
              "<style scoped>\n",
              "    .dataframe tbody tr th:only-of-type {\n",
              "        vertical-align: middle;\n",
              "    }\n",
              "\n",
              "    .dataframe tbody tr th {\n",
              "        vertical-align: top;\n",
              "    }\n",
              "\n",
              "    .dataframe thead th {\n",
              "        text-align: right;\n",
              "    }\n",
              "</style>\n",
              "<table border=\"1\" class=\"dataframe\">\n",
              "  <thead>\n",
              "    <tr style=\"text-align: right;\">\n",
              "      <th></th>\n",
              "      <th>GM_Open</th>\n",
              "      <th>GM_High</th>\n",
              "      <th>GM_Low</th>\n",
              "      <th>GM_Close</th>\n",
              "      <th>GM_Volume</th>\n",
              "      <th>JBL_Open</th>\n",
              "      <th>JBL_High</th>\n",
              "      <th>JBL_Low</th>\n",
              "      <th>JBL_Close</th>\n",
              "      <th>JBL_Volume</th>\n",
              "      <th>...</th>\n",
              "      <th>ACN_Volatility_21</th>\n",
              "      <th>ACN_Volume_Z</th>\n",
              "      <th>C_RSI_14</th>\n",
              "      <th>C_Log_Return</th>\n",
              "      <th>C_Volatility_21</th>\n",
              "      <th>C_Volume_Z</th>\n",
              "      <th>GPN_RSI_14</th>\n",
              "      <th>GPN_Log_Return</th>\n",
              "      <th>GPN_Volatility_21</th>\n",
              "      <th>GPN_Volume_Z</th>\n",
              "    </tr>\n",
              "    <tr>\n",
              "      <th>Date</th>\n",
              "      <th></th>\n",
              "      <th></th>\n",
              "      <th></th>\n",
              "      <th></th>\n",
              "      <th></th>\n",
              "      <th></th>\n",
              "      <th></th>\n",
              "      <th></th>\n",
              "      <th></th>\n",
              "      <th></th>\n",
              "      <th></th>\n",
              "      <th></th>\n",
              "      <th></th>\n",
              "      <th></th>\n",
              "      <th></th>\n",
              "      <th></th>\n",
              "      <th></th>\n",
              "      <th></th>\n",
              "      <th></th>\n",
              "      <th></th>\n",
              "      <th></th>\n",
              "    </tr>\n",
              "  </thead>\n",
              "  <tbody>\n",
              "    <tr>\n",
              "      <th>2018-01-03</th>\n",
              "      <td>37.167642</td>\n",
              "      <td>37.819244</td>\n",
              "      <td>37.158838</td>\n",
              "      <td>37.704773</td>\n",
              "      <td>14591600.0</td>\n",
              "      <td>25.474848</td>\n",
              "      <td>25.807542</td>\n",
              "      <td>25.379794</td>\n",
              "      <td>25.712486</td>\n",
              "      <td>2080500.0</td>\n",
              "      <td>...</td>\n",
              "      <td>NaN</td>\n",
              "      <td>NaN</td>\n",
              "      <td>NaN</td>\n",
              "      <td>0.003088</td>\n",
              "      <td>NaN</td>\n",
              "      <td>NaN</td>\n",
              "      <td>NaN</td>\n",
              "      <td>0.021365</td>\n",
              "      <td>NaN</td>\n",
              "      <td>NaN</td>\n",
              "    </tr>\n",
              "    <tr>\n",
              "      <th>2018-01-04</th>\n",
              "      <td>37.942513</td>\n",
              "      <td>38.963941</td>\n",
              "      <td>37.872068</td>\n",
              "      <td>38.867081</td>\n",
              "      <td>17298700.0</td>\n",
              "      <td>25.874083</td>\n",
              "      <td>26.035677</td>\n",
              "      <td>25.617435</td>\n",
              "      <td>25.959633</td>\n",
              "      <td>2298300.0</td>\n",
              "      <td>...</td>\n",
              "      <td>NaN</td>\n",
              "      <td>NaN</td>\n",
              "      <td>NaN</td>\n",
              "      <td>0.012259</td>\n",
              "      <td>NaN</td>\n",
              "      <td>NaN</td>\n",
              "      <td>NaN</td>\n",
              "      <td>0.018894</td>\n",
              "      <td>NaN</td>\n",
              "      <td>NaN</td>\n",
              "    </tr>\n",
              "    <tr>\n",
              "      <th>2018-01-05</th>\n",
              "      <td>39.184076</td>\n",
              "      <td>39.307351</td>\n",
              "      <td>38.708583</td>\n",
              "      <td>38.752609</td>\n",
              "      <td>9643300.0</td>\n",
              "      <td>26.130735</td>\n",
              "      <td>26.168758</td>\n",
              "      <td>25.807547</td>\n",
              "      <td>25.845570</td>\n",
              "      <td>1706900.0</td>\n",
              "      <td>...</td>\n",
              "      <td>NaN</td>\n",
              "      <td>NaN</td>\n",
              "      <td>NaN</td>\n",
              "      <td>-0.001325</td>\n",
              "      <td>NaN</td>\n",
              "      <td>NaN</td>\n",
              "      <td>NaN</td>\n",
              "      <td>-0.000869</td>\n",
              "      <td>NaN</td>\n",
              "      <td>NaN</td>\n",
              "    </tr>\n",
              "    <tr>\n",
              "      <th>2018-01-08</th>\n",
              "      <td>38.779033</td>\n",
              "      <td>39.263330</td>\n",
              "      <td>38.321151</td>\n",
              "      <td>38.937531</td>\n",
              "      <td>13099600.0</td>\n",
              "      <td>25.836065</td>\n",
              "      <td>25.902603</td>\n",
              "      <td>25.503370</td>\n",
              "      <td>25.741009</td>\n",
              "      <td>2301000.0</td>\n",
              "      <td>...</td>\n",
              "      <td>NaN</td>\n",
              "      <td>NaN</td>\n",
              "      <td>NaN</td>\n",
              "      <td>-0.011738</td>\n",
              "      <td>NaN</td>\n",
              "      <td>NaN</td>\n",
              "      <td>NaN</td>\n",
              "      <td>0.005969</td>\n",
              "      <td>NaN</td>\n",
              "      <td>NaN</td>\n",
              "    </tr>\n",
              "    <tr>\n",
              "      <th>2018-01-09</th>\n",
              "      <td>39.016781</td>\n",
              "      <td>39.263331</td>\n",
              "      <td>38.514872</td>\n",
              "      <td>38.787838</td>\n",
              "      <td>7768100.0</td>\n",
              "      <td>25.788531</td>\n",
              "      <td>26.026169</td>\n",
              "      <td>25.588915</td>\n",
              "      <td>25.598421</td>\n",
              "      <td>1883300.0</td>\n",
              "      <td>...</td>\n",
              "      <td>NaN</td>\n",
              "      <td>NaN</td>\n",
              "      <td>NaN</td>\n",
              "      <td>0.010411</td>\n",
              "      <td>NaN</td>\n",
              "      <td>NaN</td>\n",
              "      <td>NaN</td>\n",
              "      <td>0.006029</td>\n",
              "      <td>NaN</td>\n",
              "      <td>NaN</td>\n",
              "    </tr>\n",
              "  </tbody>\n",
              "</table>\n",
              "<p>5 rows × 4266 columns</p>\n",
              "</div>"
            ],
            "text/plain": [
              "              GM_Open    GM_High     GM_Low   GM_Close   GM_Volume   JBL_Open  \\\n",
              "Date                                                                            \n",
              "2018-01-03  37.167642  37.819244  37.158838  37.704773  14591600.0  25.474848   \n",
              "2018-01-04  37.942513  38.963941  37.872068  38.867081  17298700.0  25.874083   \n",
              "2018-01-05  39.184076  39.307351  38.708583  38.752609   9643300.0  26.130735   \n",
              "2018-01-08  38.779033  39.263330  38.321151  38.937531  13099600.0  25.836065   \n",
              "2018-01-09  39.016781  39.263331  38.514872  38.787838   7768100.0  25.788531   \n",
              "\n",
              "             JBL_High    JBL_Low  JBL_Close  JBL_Volume  ...  \\\n",
              "Date                                                     ...   \n",
              "2018-01-03  25.807542  25.379794  25.712486   2080500.0  ...   \n",
              "2018-01-04  26.035677  25.617435  25.959633   2298300.0  ...   \n",
              "2018-01-05  26.168758  25.807547  25.845570   1706900.0  ...   \n",
              "2018-01-08  25.902603  25.503370  25.741009   2301000.0  ...   \n",
              "2018-01-09  26.026169  25.588915  25.598421   1883300.0  ...   \n",
              "\n",
              "            ACN_Volatility_21  ACN_Volume_Z  C_RSI_14  C_Log_Return  \\\n",
              "Date                                                                  \n",
              "2018-01-03                NaN           NaN       NaN      0.003088   \n",
              "2018-01-04                NaN           NaN       NaN      0.012259   \n",
              "2018-01-05                NaN           NaN       NaN     -0.001325   \n",
              "2018-01-08                NaN           NaN       NaN     -0.011738   \n",
              "2018-01-09                NaN           NaN       NaN      0.010411   \n",
              "\n",
              "            C_Volatility_21  C_Volume_Z  GPN_RSI_14  GPN_Log_Return  \\\n",
              "Date                                                                  \n",
              "2018-01-03              NaN         NaN         NaN        0.021365   \n",
              "2018-01-04              NaN         NaN         NaN        0.018894   \n",
              "2018-01-05              NaN         NaN         NaN       -0.000869   \n",
              "2018-01-08              NaN         NaN         NaN        0.005969   \n",
              "2018-01-09              NaN         NaN         NaN        0.006029   \n",
              "\n",
              "            GPN_Volatility_21  GPN_Volume_Z  \n",
              "Date                                         \n",
              "2018-01-03                NaN           NaN  \n",
              "2018-01-04                NaN           NaN  \n",
              "2018-01-05                NaN           NaN  \n",
              "2018-01-08                NaN           NaN  \n",
              "2018-01-09                NaN           NaN  \n",
              "\n",
              "[5 rows x 4266 columns]"
            ]
          },
          "execution_count": 25,
          "metadata": {},
          "output_type": "execute_result"
        }
      ],
      "source": [
        "df_finance.head()"
      ]
    },
    {
      "cell_type": "code",
      "execution_count": null,
      "metadata": {},
      "outputs": [],
      "source": [
        "window_wasserstein = 30\n",
        "eps = 0.5  \n",
        "maxdim = 2 \n",
        "rips = Rips(maxdim=maxdim, verbose=False)\n",
        "\n",
        "def betti_numbers_at_scale(diagrams, eps):\n",
        "    bettis = []\n",
        "    for dgm in diagrams:\n",
        "        alive = np.sum((dgm[:, 0] <= eps) & (dgm[:, 1] > eps))\n",
        "        bettis.append(int(alive))\n",
        "    return bettis\n",
        "\n",
        "persistences = []\n",
        "betti_list = []\n",
        "wasserstein_list = []\n",
        "\n",
        "for start in range(0, len(log_returns) - window_wasserstein + 1):\n",
        "    window_data = log_returns[start:start + window_wasserstein]\n",
        "    diagrams = rips.fit_transform(window_data)\n",
        "    persistences.append(diagrams)\n",
        "\n",
        "    bettis = betti_numbers_at_scale(diagrams, eps=eps)\n",
        "    while len(bettis) < 3:\n",
        "        bettis.append(0)\n",
        "    betti_list.append(bettis)\n",
        "\n",
        "# Compute Wasserstein distances between consecutive windows (H1 diagrams)\n",
        "for i in range(1, len(persistences)):\n",
        "    dgm_prev = persistences[i - 1][1]\n",
        "    dgm_curr = persistences[i][1]\n",
        "    W = persim.wasserstein(dgm_prev, dgm_curr)\n",
        "    wasserstein_list.append(W)\n",
        "\n",
        "betti_df = pd.DataFrame(\n",
        "    betti_list,\n",
        "    columns=[\"Betti0\", \"Betti1\", \"Betti2\"],\n",
        "    index=df_finance.index[window_wasserstein - 1:]\n",
        ")\n",
        "wasserstein_df = pd.DataFrame(\n",
        "    {\"Wasserstein\": wasserstein_list},\n",
        "    index=df_finance.index[window_wasserstein:]\n",
        ")\n",
        "\n",
        "df_finance[\"Wasserstein\"] = wasserstein_df.reindex(df_finance.index)[\"Wasserstein\"]"
      ]
    },
    {
      "cell_type": "markdown",
      "metadata": {},
      "source": [
        "# Clean Nan"
      ]
    },
    {
      "cell_type": "code",
      "execution_count": 27,
      "metadata": {},
      "outputs": [],
      "source": [
        "#extra cleaning Nans\n",
        "biggest_cut_off = max(window_rsi, window_vol, window_wasserstein)\n",
        "df_finance = df_finance[biggest_cut_off:]\n",
        "df_finance = df_finance.reindex(sorted(df_finance.columns), axis=1)"
      ]
    },
    {
      "cell_type": "code",
      "execution_count": 28,
      "metadata": {},
      "outputs": [
        {
          "data": {
            "text/plain": [
              "Date\n",
              "2018-02-15    0.000366\n",
              "2018-02-16    0.000000\n",
              "2018-02-20    0.001497\n",
              "2018-02-21    0.011664\n",
              "2018-02-22    0.003391\n",
              "                ...   \n",
              "2025-08-25    0.003614\n",
              "2025-08-26    0.011057\n",
              "2025-08-27    0.013106\n",
              "2025-08-28    0.000000\n",
              "2025-08-29    0.000756\n",
              "Name: Wasserstein, Length: 1895, dtype: float64"
            ]
          },
          "execution_count": 28,
          "metadata": {},
          "output_type": "execute_result"
        }
      ],
      "source": [
        "df_finance[\"Wasserstein\"]"
      ]
    },
    {
      "cell_type": "code",
      "execution_count": null,
      "metadata": {},
      "outputs": [],
      "source": [
        "\"\"\"\n",
        "df_finance.to_csv(\"market_features_no_sentiment.csv\")\n",
        "\"\"\""
      ]
    },
    {
      "cell_type": "code",
      "execution_count": 45,
      "metadata": {},
      "outputs": [],
      "source": [
        "tickers.rename(columns={0: \"Ticker\"}, inplace=True)\n",
        "\n",
        "tickers = pd.DataFrame(tickers)\n",
        "tickers.reset_index(drop=True)\n",
        "tickers.to_csv(\"valid_tickers.csv\")"
      ]
    },
    {
      "cell_type": "markdown",
      "metadata": {},
      "source": [
        "# Sentiment\n"
      ]
    },
    {
      "cell_type": "code",
      "execution_count": null,
      "metadata": {},
      "outputs": [],
      "source": []
    }
  ],
  "metadata": {
    "colab": {
      "provenance": []
    },
    "kernelspec": {
      "display_name": ".venv",
      "language": "python",
      "name": "python3"
    },
    "language_info": {
      "codemirror_mode": {
        "name": "ipython",
        "version": 3
      },
      "file_extension": ".py",
      "mimetype": "text/x-python",
      "name": "python",
      "nbconvert_exporter": "python",
      "pygments_lexer": "ipython3",
      "version": "3.12.4"
    }
  },
  "nbformat": 4,
  "nbformat_minor": 0
}
