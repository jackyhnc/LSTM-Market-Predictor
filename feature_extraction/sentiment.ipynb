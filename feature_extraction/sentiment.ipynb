{
 "cells": [
  {
   "cell_type": "code",
   "execution_count": null,
   "id": "da3f0fe0",
   "metadata": {},
   "outputs": [],
   "source": [
    "import pandas as pd"
   ]
  },
  {
   "cell_type": "code",
   "execution_count": null,
   "id": "5ea3bfc3",
   "metadata": {},
   "outputs": [],
   "source": [
    "df_articles = pd.read_csv(\"../data_ingestion/articles.csv\")\n",
    "df_articles.set_index('date', inplace=True)\n",
    "df_articles.head()"
   ]
  },
  {
   "cell_type": "code",
   "execution_count": null,
   "id": "71c12058",
   "metadata": {},
   "outputs": [],
   "source": [
    "from transformers import BertTokenizer, BertForSequenceClassification\n",
    "from transformers import pipeline\n",
    "import numpy as np\n",
    "\n",
    "finbert = BertForSequenceClassification.from_pretrained('yiyanghkust/finbert-tone',num_labels=3)\n",
    "tokenizer = BertTokenizer.from_pretrained('yiyanghkust/finbert-tone')\n",
    "\n",
    "nlp = pipeline(\"sentiment-analysis\", model=finbert, tokenizer=tokenizer)\n",
    "\n",
    "# Global counter for progress tracking\n",
    "processed_count = 0\n",
    "total_cells = 0\n",
    "\n",
    "def print_nlp(text):\n",
    "    global processed_count\n",
    "    processed_count += 1\n",
    "    \n",
    "    # Print progress every 10 cells\n",
    "    if processed_count % 10 == 0:\n",
    "        print(f\"Progress: {processed_count}/{total_cells} cells processed ({processed_count/total_cells*100:.1f}%)\")\n",
    "    \n",
    "    if text is None or pd.isna(text):\n",
    "        return \"Neutral\"\n",
    "    \n",
    "    res = nlp(text)\n",
    "    return res[0]['label']"
   ]
  },
  {
   "cell_type": "code",
   "execution_count": null,
   "id": "d705dba4",
   "metadata": {},
   "outputs": [],
   "source": [
    "# slow asf run it on a100\n",
    "finbert_sentiment_df = df_articles.applymap(print_nlp)\n",
    "finbert_sentiment_df"
   ]
  }
 ],
 "metadata": {
  "kernelspec": {
   "display_name": ".venv",
   "language": "python",
   "name": "python3"
  },
  "language_info": {
   "codemirror_mode": {
    "name": "ipython",
    "version": 3
   },
   "file_extension": ".py",
   "mimetype": "text/x-python",
   "name": "python",
   "nbconvert_exporter": "python",
   "pygments_lexer": "ipython3",
   "version": "3.12.4"
  }
 },
 "nbformat": 4,
 "nbformat_minor": 5
}
