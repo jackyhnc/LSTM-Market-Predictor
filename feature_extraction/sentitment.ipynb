{
 "cells": [
  {
   "cell_type": "code",
   "execution_count": 2,
   "id": "263f63f9",
   "metadata": {},
   "outputs": [],
   "source": [
    "import pandas as pd"
   ]
  },
  {
   "cell_type": "code",
   "execution_count": 15,
   "id": "1a2b67df",
   "metadata": {},
   "outputs": [],
   "source": [
    "tickers = pd.read_csv(\"valid_tickers.csv\")\n",
    "tickers = tickers[\"Ticker\"].tolist()"
   ]
  },
  {
   "cell_type": "code",
   "execution_count": null,
   "id": "448fe985",
   "metadata": {},
   "outputs": [
    {
     "name": "stdout",
     "output_type": "stream",
     "text": [
      "{'status_code': 200, 'url': 'https://api.gdeltproject.org/api/v2/doc/doc?query=%22EMN%22+articles&mode=ArtList&format=JSON&maxrecords=250&startdatetime=20180101000000&enddatetime=20180131000000', 'headers': {'Date': 'Sun, 19 Oct 2025 05:52:39 GMT', 'Server': 'GDELT Server', 'Access-Control-Allow-Origin': '*', 'Timing-Allow-Origin': '*', 'X-XSS-Protection': '1; mode=block', 'Cache-Control': 'public, max-age=900', 'Keep-Alive': 'timeout=5, max=100', 'Connection': 'Keep-Alive', 'Transfer-Encoding': 'chunked', 'Content-Type': 'text/html; charset=utf-8'}, 'elapsed': 0.241242, 'content_length': 35}\n"
     ]
    }
   ],
   "source": [
    "import requests, time\n",
    "from datetime import datetime, timedelta\n",
    "\n",
    "start_date = datetime(2018, 1, 1)\n",
    "end_date = datetime(2025, 1, 1)\n",
    "delta = timedelta(days=30)\n",
    "base_url = \"https://api.gdeltproject.org/api/v2/doc/doc\"\n",
    "\n",
    "articles = []\n",
    "\n",
    "for company in tickers:\n",
    "  while start_date < end_date:\n",
    "    params = {\n",
    "      \"query\": f'\"{company}\" articles',\n",
    "      \"mode\": \"ArtList\",\n",
    "      \"format\": \"JSON\",\n",
    "      \"maxrecords\": 250, #max gdelt api limit\n",
    "      \"startdatetime\": start_date.strftime(\"%Y%m%d%H%M%S\"),\n",
    "      \"enddatetime\": (start_date + delta).strftime(\"%Y%m%d%H%M%S\")\n",
    "    }\n",
    "\n",
    "    r = requests.get(base_url, params=params)\n",
    "    info = {\n",
    "        \"status_code\": r.status_code,\n",
    "        \"url\": r.url,\n",
    "        \"headers\": dict(r.headers),\n",
    "        \"elapsed\": r.elapsed.total_seconds(),\n",
    "        \"content_length\": len(r.content)\n",
    "    }\n",
    "    print(info)\n",
    "    if r.status_code == 200:\n",
    "      data = r.json().get(\"articles\", [])\n",
    "      for a in data:\n",
    "        articles.append({\n",
    "          \"company\": company,\n",
    "          \"title\": a.get(\"title\"),\n",
    "          \"url\": a.get(\"url\"),\n",
    "          \"date\": a.get(\"seendate\"),\n",
    "          \"source\": a.get(\"sourceCountry\"),\n",
    "          \"language\": a.get(\"language\")\n",
    "        })\n",
    "    time.sleep(0.3)\n",
    "\n",
    "    start_date += delta\n",
    "  break"
   ]
  }
 ],
 "metadata": {
  "kernelspec": {
   "display_name": ".venv",
   "language": "python",
   "name": "python3"
  },
  "language_info": {
   "codemirror_mode": {
    "name": "ipython",
    "version": 3
   },
   "file_extension": ".py",
   "mimetype": "text/x-python",
   "name": "python",
   "nbconvert_exporter": "python",
   "pygments_lexer": "ipython3",
   "version": "3.12.4"
  }
 },
 "nbformat": 4,
 "nbformat_minor": 5
}
