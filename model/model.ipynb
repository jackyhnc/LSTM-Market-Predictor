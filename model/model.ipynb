{
 "cells": [
  {
   "cell_type": "code",
   "execution_count": null,
   "id": "572527fa",
   "metadata": {},
   "outputs": [],
   "source": [
    "import pandas as pd\n",
    "import numpy as np"
   ]
  },
  {
   "cell_type": "code",
   "execution_count": null,
   "id": "f1b360a4",
   "metadata": {},
   "outputs": [],
   "source": [
    "df_finance = pd.read_csv(\"../feature_extraction/market_features_no_sentiment.csv\").set_index(\"Date\")\n",
    "tickers = pd.read_csv(\"../feature_extraction/valid_tickers.csv\")\n",
    "\n",
    "tickers = tickers[\"Ticker\"].tolist()\n",
    "\n",
    "df_finance.columns = pd.MultiIndex.from_tuples(\n",
    "    [(col.split(\"_\")[0], \"_\".join(col.split(\"_\")[1:])) for col in df_finance.columns]\n",
    ")\n",
    "\n",
    "train_features = ['RSI_14',\n",
    " 'Close',\n",
    " 'Volume_Z',\n",
    " 'Volume',\n",
    " 'Volatility_21']"
   ]
  },
  {
   "cell_type": "code",
   "execution_count": null,
   "id": "7402b1dd",
   "metadata": {},
   "outputs": [],
   "source": [
    "from sklearn.preprocessing import MinMaxScaler\n",
    "scaler = MinMaxScaler()\n",
    "\n",
    "X_all, y_all = [], []\n",
    "window_prediction = 30\n",
    "\n",
    "for ticker in tickers:\n",
    "  print(ticker)\n",
    "  df_ticker_finance = df_finance[ticker]\n",
    "  df_train = df_ticker_finance[train_features].copy()\n",
    "  #add wasserstein distance for each ticker\n",
    "  df_train = df_train.merge(df_finance[\"Wasserstein\"].loc[df_train.index], left_index=True, right_index=True)\n",
    "  df_train.loc[:, \"Target\"] = df_ticker_finance[\"Log_Return\"] # predict log return\n",
    "  \n",
    "  df_train[train_features] = scaler.fit_transform(df_train[train_features])\n",
    "  \n",
    "  X, y = [], []\n",
    "\n",
    "  for i in range(len(df_train) - window_prediction):\n",
    "    X.append(df_train[train_features].iloc[i:i+window_prediction].values)\n",
    "    y.append(df_train['Target'].iloc[i+window_prediction])\n",
    "  X, y = np.array(X), np.array(y)\n",
    "  X_all.append(X)\n",
    "  y_all.append(y)"
   ]
  },
  {
   "cell_type": "code",
   "execution_count": null,
   "id": "90f2e947",
   "metadata": {},
   "outputs": [],
   "source": [
    "X_all = np.array(X_all)\n",
    "y_all = np.array(y_all)\n",
    "\n",
    "X_all = X_all.reshape(-1, X_all.shape[2], X_all.shape[3])\n",
    "y_all = y_all.reshape(-1)"
   ]
  },
  {
   "cell_type": "code",
   "execution_count": null,
   "id": "689fdbf5",
   "metadata": {},
   "outputs": [],
   "source": [
    "np.save(\"X_all.npy\", X_all)\n",
    "np.save(\"y_all.npy\", y_all)"
   ]
  },
  {
   "cell_type": "code",
   "execution_count": null,
   "id": "cfa8b578",
   "metadata": {},
   "outputs": [],
   "source": [
    "import tensorflow as tf\n",
    "from tensorflow.keras import layers, models\n",
    "\n",
    "from sklearn.model_selection import train_test_split\n",
    "\n",
    "X_train, X_test, y_train, y_test = train_test_split(\n",
    "    X_all, y_all, test_size=0.1, shuffle=False\n",
    ")\n",
    "\n",
    "model = models.Sequential([\n",
    "    layers.LSTM(64, return_sequences=True, input_shape=(X_train.shape[1], X_train.shape[2])),\n",
    "    layers.Dropout(0.2),\n",
    "    layers.LSTM(32),\n",
    "    layers.Dense(16, activation='relu'),\n",
    "    layers.Dense(1)\n",
    "])\n",
    "\n",
    "model.compile(optimizer='adam', loss='mse')\n",
    "history = model.fit(X_all, y_all, epochs=30, batch_size=64, validation_split=0.1, shuffle=False)\n"
   ]
  }
 ],
 "metadata": {
  "kernelspec": {
   "display_name": ".venv",
   "language": "python",
   "name": "python3"
  },
  "language_info": {
   "codemirror_mode": {
    "name": "ipython",
    "version": 3
   },
   "file_extension": ".py",
   "mimetype": "text/x-python",
   "name": "python",
   "nbconvert_exporter": "python",
   "pygments_lexer": "ipython3",
   "version": "3.12.4"
  }
 },
 "nbformat": 4,
 "nbformat_minor": 5
}
