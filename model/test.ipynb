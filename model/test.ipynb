{
 "cells": [
  {
   "cell_type": "code",
   "execution_count": 1,
   "id": "6d97b302",
   "metadata": {},
   "outputs": [
    {
     "name": "stderr",
     "output_type": "stream",
     "text": [
      "/var/folders/c5/nwrhnbhs5ks1ssf190f4b49r0000gn/T/ipykernel_53446/1848002774.py:2: FutureWarning: YF.download() has changed argument auto_adjust default to True\n",
      "  df = yf.download(\"AAPL\", start=\"2025-10-01\", end=\"2025-10-23\")\n",
      "[*********************100%***********************]  1 of 1 completed"
     ]
    },
    {
     "name": "stdout",
     "output_type": "stream",
     "text": [
      "Price            Close        High         Low        Open    Volume\n",
      "Ticker            AAPL        AAPL        AAPL        AAPL      AAPL\n",
      "Date                                                                \n",
      "2025-10-01  255.449997  258.790009  254.929993  255.039993  48713900\n",
      "2025-10-02  257.130005  258.179993  254.149994  256.579987  42630200\n",
      "2025-10-03  258.019989  259.239990  253.949997  254.669998  49155600\n",
      "2025-10-06  256.690002  259.070007  255.050003  257.989990  44664100\n",
      "2025-10-07  256.480011  257.399994  255.429993  256.809998  31955800 Price            Close        High         Low        Open    Volume\n",
      "Ticker            AAPL        AAPL        AAPL        AAPL      AAPL\n",
      "Date                                                                \n",
      "2025-10-16  247.449997  249.039993  245.130005  248.250000  39777000\n",
      "2025-10-17  252.289993  253.380005  247.270004  248.020004  49147000\n",
      "2025-10-20  262.239990  264.380005  255.630005  255.889999  90483000\n",
      "2025-10-21  262.769989  265.290009  261.829987  261.880005  46695900\n",
      "2025-10-22  258.450012  262.850006  255.429993  262.649994  45015300\n"
     ]
    },
    {
     "name": "stderr",
     "output_type": "stream",
     "text": [
      "\n"
     ]
    }
   ],
   "source": [
    "import yfinance as yf\n",
    "df = yf.download(\"AAPL\", start=\"2025-10-01\", end=\"2025-10-23\")\n",
    "print(df.head(), df.tail())\n"
   ]
  }
 ],
 "metadata": {
  "kernelspec": {
   "display_name": ".venv",
   "language": "python",
   "name": "python3"
  },
  "language_info": {
   "codemirror_mode": {
    "name": "ipython",
    "version": 3
   },
   "file_extension": ".py",
   "mimetype": "text/x-python",
   "name": "python",
   "nbconvert_exporter": "python",
   "pygments_lexer": "ipython3",
   "version": "3.12.4"
  }
 },
 "nbformat": 4,
 "nbformat_minor": 5
}
