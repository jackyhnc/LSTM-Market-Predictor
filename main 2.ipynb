{
 "cells": [
  {
   "cell_type": "code",
   "execution_count": 1,
   "id": "dfb25c4d",
   "metadata": {},
   "outputs": [],
   "source": [
    "import yfinance as yf\n",
    "import pandas as pd"
   ]
  },
  {
   "cell_type": "code",
   "execution_count": null,
   "id": "a2b394a1",
   "metadata": {},
   "outputs": [],
   "source": [
    "sp500_csv = pd.read_csv(\"sp500.csv\")\n",
    "sp500_tickers = [ticker for ticker in sp500_csv[\"Symbol\"]]\n",
    "\n",
    "sp500_data = yf.download(sp500_tickers, start=\"2018-01-01\", end=\"2025-09-01\", group_by=\"ticker\")\n",
    "sp500_data.to_csv(\"sp500_data.csv\")"
   ]
  },
  {
   "cell_type": "code",
   "execution_count": null,
   "id": "45e272c7",
   "metadata": {},
   "outputs": [],
   "source": [
    "class Agent:\n",
    "    pass"
   ]
  }
 ],
 "metadata": {
  "kernelspec": {
   "display_name": ".venv",
   "language": "python",
   "name": "python3"
  },
  "language_info": {
   "codemirror_mode": {
    "name": "ipython",
    "version": 3
   },
   "file_extension": ".py",
   "mimetype": "text/x-python",
   "name": "python",
   "nbconvert_exporter": "python",
   "pygments_lexer": "ipython3",
   "version": "3.12.10"
  }
 },
 "nbformat": 4,
 "nbformat_minor": 5
}
